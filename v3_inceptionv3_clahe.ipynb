{
 "cells": [
  {
   "cell_type": "code",
   "execution_count": 1,
   "id": "0e5983b4-4177-4324-89f2-0074d1fa21b6",
   "metadata": {},
   "outputs": [],
   "source": [
    "import os\n",
    "import cv2\n",
    "import numpy as np\n",
    "import matplotlib.pyplot as plt\n",
    "from sklearn.model_selection import train_test_split\n",
    "from keras.applications import InceptionV3\n",
    "from keras.models import Model\n",
    "from keras.layers import Dense, GlobalAveragePooling2D\n",
    "from keras.utils import to_categorical\n",
    "import time\n",
    "import tensorflow as tf"
   ]
  },
  {
   "cell_type": "code",
   "execution_count": 3,
   "id": "57104042-2d37-441a-b820-2ab0c9a03656",
   "metadata": {},
   "outputs": [
    {
     "name": "stdout",
     "output_type": "stream",
     "text": [
      "Num GPUs Available:  1\n"
     ]
    },
    {
     "data": {
      "text/plain": [
       "[PhysicalDevice(name='/physical_device:GPU:0', device_type='GPU')]"
      ]
     },
     "execution_count": 3,
     "metadata": {},
     "output_type": "execute_result"
    }
   ],
   "source": [
    "print(\"Num GPUs Available: \", len(tf.config.list_physical_devices('GPU')))\n",
    "tf.config.list_physical_devices('GPU')"
   ]
  },
  {
   "cell_type": "code",
   "execution_count": 4,
   "id": "78feb46a-79f0-4bfb-98c9-a532e5a2219f",
   "metadata": {},
   "outputs": [
    {
     "name": "stdout",
     "output_type": "stream",
     "text": [
      "Virtual devices cannot be modified after being initialized\n"
     ]
    }
   ],
   "source": [
    "gpus = tf.config.list_physical_devices('GPU')\n",
    "if gpus:\n",
    "  # Restrict TensorFlow to only allocate 1GB of memory on the first GPU\n",
    "  try:\n",
    "    tf.config.set_logical_device_configuration(\n",
    "        gpus[0],\n",
    "        [tf.config.LogicalDeviceConfiguration(memory_limit=3072)])\n",
    "    logical_gpus = tf.config.list_logical_devices('GPU')\n",
    "    print(len(gpus), \"Physical GPUs,\", len(logical_gpus), \"Logical GPUs\")\n",
    "  except RuntimeError as e:\n",
    "    # Virtual devices must be set before GPUs have been initialized\n",
    "    print(e)"
   ]
  },
  {
   "cell_type": "code",
   "execution_count": 5,
   "id": "bbb80cb8-c15c-4ded-8f53-22eb7c4783db",
   "metadata": {},
   "outputs": [],
   "source": [
    "# Function to load preprocessed images and labels\n",
    "def load_data(input_dirs):\n",
    "    X = []\n",
    "    y = []\n",
    "    for i, input_dir in enumerate(input_dirs):\n",
    "        for img_name in os.listdir(input_dir):\n",
    "            img_path = os.path.join(input_dir, img_name)\n",
    "            img = cv2.imread(img_path)\n",
    "            X.append(img)\n",
    "            y.append(i)\n",
    "    return np.array(X), np.array(y)"
   ]
  },
  {
   "cell_type": "code",
   "execution_count": 6,
   "id": "6a90391f-52ad-46d9-9b9e-8ee2c40f4a00",
   "metadata": {},
   "outputs": [],
   "source": [
    "# Data directories for preprocessed images\n",
    "preprocessed_normal_folder = \"new_preprocessed_clahe/normal/\"\n",
    "preprocessed_polyp_folder = \"new_preprocessed_clahe/polyps/\"\n",
    "preprocessed_esophagitis_folder = \"new_preprocessed_clahe/esophagitis/\"\n",
    "preprocessed_ulcerative_colitis_folder = \"new_preprocessed_clahe/ulcerative-colitis/\"\n",
    "\n",
    "preprocessed_dirs = [preprocessed_normal_folder, preprocessed_polyp_folder, preprocessed_esophagitis_folder, preprocessed_ulcerative_colitis_folder]\n",
    "\n",
    "# Load preprocessed images and labels\n",
    "X, y = load_data(preprocessed_dirs)\n",
    "\n",
    "# Data preprocessing\n",
    "X = X.astype('float32') / 255.0\n",
    "y = to_categorical(y, num_classes=4)\n",
    "\n",
    "# Splitting the dataset\n",
    "X_train, X_test, y_train, y_test = train_test_split(X, y, test_size=0.2, random_state=42)"
   ]
  },
  {
   "cell_type": "code",
   "execution_count": null,
   "id": "12b79eb3-b114-4518-8363-3df58344038d",
   "metadata": {},
   "outputs": [],
   "source": [
    "# Loading the pre-trained InceptionV3 model\n",
    "base_model = InceptionV3(weights='imagenet', include_top=False, input_shape=(299, 299, 3))\n",
    "\n",
    "# Adding custom dense layers for multi-class classification\n",
    "x = base_model.output\n",
    "x = GlobalAveragePooling2D()(x)\n",
    "x = Dense(1024, activation='relu')(x)\n",
    "predictions = Dense(4, activation='softmax')(x)  # Output layer with 4 units for 4 classes\n",
    "\n",
    "# Combining the base model with custom dense layers\n",
    "model = Model(inputs=base_model.input, outputs=predictions)\n",
    "\n",
    "# Freezing layers of the base model\n",
    "for layer in base_model.layers:\n",
    "    layer.trainable = False\n",
    "\n",
    "# Compiling the model\n",
    "model.compile(optimizer='adam', loss='categorical_crossentropy', metrics=['accuracy'])"
   ]
  },
  {
   "cell_type": "code",
   "execution_count": null,
   "id": "a1de3333-e21f-4495-9e15-5114e02217ad",
   "metadata": {},
   "outputs": [],
   "source": [
    "################################################################\n",
    "\n",
    "with tf.device('/cpu:0'):\n",
    "   X_train = tf.convert_to_tensor(X_train, np.float32)\n",
    "   y_train = tf.convert_to_tensor(y_train, np.float32)\n",
    "\n",
    "################################################################"
   ]
  },
  {
   "cell_type": "code",
   "execution_count": null,
   "id": "dd66a2de-e2b4-4693-a33a-7848e1e8d715",
   "metadata": {},
   "outputs": [],
   "source": [
    "# Start time\n",
    "start_time = time.time()\n",
    "\n",
    "# Training the model\n",
    "model.fit(X_train, y_train, epochs = 10, batch_size = 8, validation_data = (X_test, y_test))\n",
    "\n",
    "# End time\n",
    "end_time = time.time()\n",
    "\n",
    "# Duration of training\n",
    "training_duration = end_time - start_time\n",
    "print(f\"Training took {round(training_duration, 2)} seconds.\")\n",
    "training_time_minutes = training_duration/60\n",
    "training_time_hours = training_time_minutes/60\n",
    "print(f\"Training took {round(training_time_minutes, 2)} minutes.\")\n",
    "print(f\"Training took {round(training_time_hours, 2)} hours.\")"
   ]
  },
  {
   "cell_type": "code",
   "execution_count": null,
   "id": "a1dfbe61-cbf3-4917-bd52-8402ea5fa1d9",
   "metadata": {},
   "outputs": [],
   "source": [
    "# Model evaluation\n",
    "loss, accuracy = model.evaluate(X_test, y_test)\n",
    "print(f'Test Loss: {loss}, Test Accuracy: {accuracy}')"
   ]
  },
  {
   "cell_type": "code",
   "execution_count": null,
   "id": "c388c69a-d6b2-423f-a452-a2a45574e279",
   "metadata": {},
   "outputs": [],
   "source": [
    "# Saving the model\n",
    "model.save('saved_models/v3_inceptionv3_clahe/')"
   ]
  },
  {
   "cell_type": "code",
   "execution_count": 7,
   "id": "1f9c41bf-6b83-4bc3-96e1-58d6f0d7ed5a",
   "metadata": {},
   "outputs": [
    {
     "name": "stdout",
     "output_type": "stream",
     "text": [
      "22/22 [==============================] - 17s 341ms/step - loss: 0.2752 - accuracy: 0.9171\n",
      "Test Loss: 0.2752058506011963, Test Accuracy: 0.9171428680419922\n"
     ]
    }
   ],
   "source": [
    "from keras.models import load_model\n",
    "\n",
    "# Load the saved model\n",
    "loaded_model = load_model('saved_models/v3_inceptionv3_clahe/')\n",
    "\n",
    "# Model evaluation\n",
    "loss, accuracy = loaded_model.evaluate(X_test, y_test)\n",
    "print(f'Test Loss: {loss}, Test Accuracy: {accuracy}')"
   ]
  },
  {
   "cell_type": "code",
   "execution_count": 8,
   "id": "05130247-ec49-4c95-81b4-e6c26a0e8249",
   "metadata": {},
   "outputs": [],
   "source": [
    "def plot_history(history, model_name):\n",
    "    plt.plot(history.history['val_accuracy'], label='Validation Accuracy')\n",
    "    plt.plot(history.history['val_loss'], label='Validation Loss')\n",
    "    plt.title(model_name + ' Model')\n",
    "    plt.xlabel('Epoch')\n",
    "    plt.ylabel('Accuracy / Loss')\n",
    "    plt.legend()\n",
    "    plt.show()"
   ]
  },
  {
   "cell_type": "code",
   "execution_count": 9,
   "id": "ce299e00-2df5-4be6-b81d-1884de5c6ae0",
   "metadata": {},
   "outputs": [
    {
     "ename": "TypeError",
     "evalue": "'History' object is not subscriptable",
     "output_type": "error",
     "traceback": [
      "\u001b[1;31m---------------------------------------------------------------------------\u001b[0m",
      "\u001b[1;31mTypeError\u001b[0m                                 Traceback (most recent call last)",
      "Cell \u001b[1;32mIn[9], line 3\u001b[0m\n\u001b[0;32m      1\u001b[0m \u001b[38;5;66;03m#plot_history(inception_history, 'InceptionV3')\u001b[39;00m\n\u001b[0;32m      2\u001b[0m \u001b[38;5;66;03m#plot_history(resnet_history, 'ResNet50V2')\u001b[39;00m\n\u001b[1;32m----> 3\u001b[0m \u001b[43mplot_history\u001b[49m\u001b[43m(\u001b[49m\u001b[43mloaded_model\u001b[49m\u001b[43m,\u001b[49m\u001b[43m \u001b[49m\u001b[38;5;124;43m'\u001b[39;49m\u001b[38;5;124;43mResNet50V2\u001b[39;49m\u001b[38;5;124;43m'\u001b[39;49m\u001b[43m)\u001b[49m\n",
      "Cell \u001b[1;32mIn[8], line 2\u001b[0m, in \u001b[0;36mplot_history\u001b[1;34m(history, model_name)\u001b[0m\n\u001b[0;32m      1\u001b[0m \u001b[38;5;28;01mdef\u001b[39;00m \u001b[38;5;21mplot_history\u001b[39m(history, model_name):\n\u001b[1;32m----> 2\u001b[0m     plt\u001b[38;5;241m.\u001b[39mplot(\u001b[43mhistory\u001b[49m\u001b[38;5;241;43m.\u001b[39;49m\u001b[43mhistory\u001b[49m\u001b[43m[\u001b[49m\u001b[38;5;124;43m'\u001b[39;49m\u001b[38;5;124;43mval_accuracy\u001b[39;49m\u001b[38;5;124;43m'\u001b[39;49m\u001b[43m]\u001b[49m, label\u001b[38;5;241m=\u001b[39m\u001b[38;5;124m'\u001b[39m\u001b[38;5;124mValidation Accuracy\u001b[39m\u001b[38;5;124m'\u001b[39m)\n\u001b[0;32m      3\u001b[0m     plt\u001b[38;5;241m.\u001b[39mplot(history\u001b[38;5;241m.\u001b[39mhistory[\u001b[38;5;124m'\u001b[39m\u001b[38;5;124mval_loss\u001b[39m\u001b[38;5;124m'\u001b[39m], label\u001b[38;5;241m=\u001b[39m\u001b[38;5;124m'\u001b[39m\u001b[38;5;124mValidation Loss\u001b[39m\u001b[38;5;124m'\u001b[39m)\n\u001b[0;32m      4\u001b[0m     plt\u001b[38;5;241m.\u001b[39mtitle(model_name \u001b[38;5;241m+\u001b[39m \u001b[38;5;124m'\u001b[39m\u001b[38;5;124m Model\u001b[39m\u001b[38;5;124m'\u001b[39m)\n",
      "\u001b[1;31mTypeError\u001b[0m: 'History' object is not subscriptable"
     ]
    }
   ],
   "source": [
    "#plot_history(inception_history, 'InceptionV3')\n",
    "#plot_history(resnet_history, 'ResNet50V2')\n",
    "plot_history(loaded_model, 'ResNet50V2')"
   ]
  },
  {
   "cell_type": "code",
   "execution_count": null,
   "id": "b8f9d7a7-b2db-4fd4-9d58-8be74a69fc81",
   "metadata": {},
   "outputs": [],
   "source": [
    "Epoch 1/10\n",
    "350/350 [==============================] - 59s 126ms/step - loss: 0.5645 - accuracy: 0.8011 - val_loss: 0.3416 - val_accuracy: 0.8857\n",
    "Epoch 2/10\n",
    "350/350 [==============================] - 40s 114ms/step - loss: 0.2982 - accuracy: 0.8779 - val_loss: 0.2673 - val_accuracy: 0.8971\n",
    "Epoch 3/10\n",
    "350/350 [==============================] - 41s 117ms/step - loss: 0.2522 - accuracy: 0.8986 - val_loss: 0.2821 - val_accuracy: 0.9000\n",
    "Epoch 4/10\n",
    "350/350 [==============================] - 40s 114ms/step - loss: 0.2233 - accuracy: 0.9136 - val_loss: 0.2326 - val_accuracy: 0.9114\n",
    "Epoch 5/10\n",
    "350/350 [==============================] - 40s 114ms/step - loss: 0.1982 - accuracy: 0.9229 - val_loss: 0.2134 - val_accuracy: 0.9157\n",
    "Epoch 6/10\n",
    "350/350 [==============================] - 40s 114ms/step - loss: 0.1783 - accuracy: 0.9268 - val_loss: 0.2188 - val_accuracy: 0.9229\n",
    "Epoch 7/10\n",
    "350/350 [==============================] - 40s 113ms/step - loss: 0.1600 - accuracy: 0.9393 - val_loss: 0.1979 - val_accuracy: 0.9314\n",
    "Epoch 8/10\n",
    "350/350 [==============================] - 40s 114ms/step - loss: 0.1508 - accuracy: 0.9350 - val_loss: 0.1989 - val_accuracy: 0.9257\n",
    "Epoch 9/10\n",
    "350/350 [==============================] - 40s 114ms/step - loss: 0.1332 - accuracy: 0.9471 - val_loss: 0.1909 - val_accuracy: 0.9371\n",
    "Epoch 10/10\n",
    "350/350 [==============================] - 41s 116ms/step - loss: 0.1310 - accuracy: 0.9446 - val_loss: 0.1977 - val_accuracy: 0.9400\n",
    "Training took 421.67 seconds.\n",
    "Training took 7.03 minutes.\n",
    "Training took 0.12 hours."
   ]
  },
  {
   "cell_type": "code",
   "execution_count": null,
   "id": "cf7fac97-b2fa-4805-871e-00bea0222658",
   "metadata": {},
   "outputs": [],
   "source": [
    "Epoch 1/10\n",
    "350/350 [==============================] - 41s 115ms/step - loss: 0.1292 - accuracy: 0.9500 - val_loss: 0.2548 - val_accuracy: 0.9086\n",
    "Epoch 2/10\n",
    "350/350 [==============================] - 40s 114ms/step - loss: 0.1138 - accuracy: 0.9536 - val_loss: 0.2756 - val_accuracy: 0.9086\n",
    "Epoch 3/10\n",
    "350/350 [==============================] - 41s 117ms/step - loss: 0.0903 - accuracy: 0.9625 - val_loss: 0.2256 - val_accuracy: 0.9229\n",
    "Epoch 4/10\n",
    "350/350 [==============================] - 40s 114ms/step - loss: 0.0852 - accuracy: 0.9632 - val_loss: 0.2679 - val_accuracy: 0.9243\n",
    "Epoch 5/10\n",
    "350/350 [==============================] - 40s 115ms/step - loss: 0.1046 - accuracy: 0.9564 - val_loss: 0.2315 - val_accuracy: 0.9286\n",
    "Epoch 6/10\n",
    "350/350 [==============================] - 41s 118ms/step - loss: 0.0926 - accuracy: 0.9579 - val_loss: 0.2367 - val_accuracy: 0.9157\n",
    "Epoch 7/10\n",
    "350/350 [==============================] - 40s 114ms/step - loss: 0.0534 - accuracy: 0.9818 - val_loss: 0.2594 - val_accuracy: 0.9229\n",
    "Epoch 8/10\n",
    "350/350 [==============================] - 41s 117ms/step - loss: 0.0581 - accuracy: 0.9771 - val_loss: 0.3225 - val_accuracy: 0.9057\n",
    "Epoch 9/10\n",
    "350/350 [==============================] - 40s 114ms/step - loss: 0.0761 - accuracy: 0.9704 - val_loss: 0.2996 - val_accuracy: 0.9186\n",
    "Epoch 10/10\n",
    "350/350 [==============================] - 40s 114ms/step - loss: 0.0863 - accuracy: 0.9696 - val_loss: 0.2752 - val_accuracy: 0.9171\n",
    "Training took 403.58 seconds.\n",
    "Training took 6.73 minutes.\n",
    "Training took 0.11 hours."
   ]
  }
 ],
 "metadata": {
  "kernelspec": {
   "display_name": "Python 3 (ipykernel)",
   "language": "python",
   "name": "python3"
  },
  "language_info": {
   "codemirror_mode": {
    "name": "ipython",
    "version": 3
   },
   "file_extension": ".py",
   "mimetype": "text/x-python",
   "name": "python",
   "nbconvert_exporter": "python",
   "pygments_lexer": "ipython3",
   "version": "3.9.19"
  }
 },
 "nbformat": 4,
 "nbformat_minor": 5
}
