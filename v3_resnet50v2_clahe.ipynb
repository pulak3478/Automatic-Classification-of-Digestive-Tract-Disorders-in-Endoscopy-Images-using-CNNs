{
 "cells": [
  {
   "cell_type": "code",
   "execution_count": 1,
   "id": "0e5983b4-4177-4324-89f2-0074d1fa21b6",
   "metadata": {},
   "outputs": [],
   "source": [
    "import os\n",
    "import cv2\n",
    "import numpy as np\n",
    "import matplotlib.pyplot as plt\n",
    "from sklearn.model_selection import train_test_split\n",
    "from keras.applications.resnet_v2 import ResNet50V2\n",
    "from keras.models import Model\n",
    "from keras.layers import Dense, GlobalAveragePooling2D\n",
    "from keras.utils import to_categorical\n",
    "import time\n",
    "import tensorflow as tf"
   ]
  },
  {
   "cell_type": "code",
   "execution_count": 2,
   "id": "57104042-2d37-441a-b820-2ab0c9a03656",
   "metadata": {},
   "outputs": [
    {
     "name": "stdout",
     "output_type": "stream",
     "text": [
      "Num GPUs Available:  1\n"
     ]
    },
    {
     "data": {
      "text/plain": [
       "[PhysicalDevice(name='/physical_device:GPU:0', device_type='GPU')]"
      ]
     },
     "execution_count": 2,
     "metadata": {},
     "output_type": "execute_result"
    }
   ],
   "source": [
    "print(\"Num GPUs Available: \", len(tf.config.list_physical_devices('GPU')))\n",
    "tf.config.list_physical_devices('GPU')"
   ]
  },
  {
   "cell_type": "code",
   "execution_count": 3,
   "id": "78feb46a-79f0-4bfb-98c9-a532e5a2219f",
   "metadata": {},
   "outputs": [
    {
     "name": "stdout",
     "output_type": "stream",
     "text": [
      "1 Physical GPUs, 1 Logical GPUs\n"
     ]
    }
   ],
   "source": [
    "gpus = tf.config.list_physical_devices('GPU')\n",
    "if gpus:\n",
    "  # Restrict TensorFlow to only allocate 1GB of memory on the first GPU\n",
    "  try:\n",
    "    tf.config.set_logical_device_configuration(\n",
    "        gpus[0],\n",
    "        [tf.config.LogicalDeviceConfiguration(memory_limit=3072)])\n",
    "    logical_gpus = tf.config.list_logical_devices('GPU')\n",
    "    print(len(gpus), \"Physical GPUs,\", len(logical_gpus), \"Logical GPUs\")\n",
    "  except RuntimeError as e:\n",
    "    # Virtual devices must be set before GPUs have been initialized\n",
    "    print(e)"
   ]
  },
  {
   "cell_type": "code",
   "execution_count": 4,
   "id": "bbb80cb8-c15c-4ded-8f53-22eb7c4783db",
   "metadata": {},
   "outputs": [],
   "source": [
    "# Function to load preprocessed images and labels\n",
    "def load_data(input_dirs):\n",
    "    X = []\n",
    "    y = []\n",
    "    for i, input_dir in enumerate(input_dirs):\n",
    "        for img_name in os.listdir(input_dir):\n",
    "            img_path = os.path.join(input_dir, img_name)\n",
    "            img = cv2.imread(img_path)\n",
    "            X.append(img)\n",
    "            y.append(i)\n",
    "    return np.array(X), np.array(y)"
   ]
  },
  {
   "cell_type": "code",
   "execution_count": 5,
   "id": "6a90391f-52ad-46d9-9b9e-8ee2c40f4a00",
   "metadata": {},
   "outputs": [],
   "source": [
    "# Data directories for preprocessed images\n",
    "preprocessed_normal_folder = \"new_preprocessed_clahe/normal/\"\n",
    "preprocessed_polyp_folder = \"new_preprocessed_clahe/polyps/\"\n",
    "preprocessed_esophagitis_folder = \"new_preprocessed_clahe/esophagitis/\"\n",
    "preprocessed_ulcerative_colitis_folder = \"new_preprocessed_clahe/ulcerative-colitis/\"\n",
    "\n",
    "preprocessed_dirs = [preprocessed_normal_folder, preprocessed_polyp_folder, preprocessed_esophagitis_folder, preprocessed_ulcerative_colitis_folder]\n",
    "\n",
    "# Load preprocessed images and labels\n",
    "X, y = load_data(preprocessed_dirs)\n",
    "\n",
    "# Data preprocessing\n",
    "X = X.astype('float32') / 255.0\n",
    "y = to_categorical(y, num_classes=4)\n",
    "\n",
    "# Splitting the dataset\n",
    "X_train, X_test, y_train, y_test = train_test_split(X, y, test_size=0.2, random_state=42)"
   ]
  },
  {
   "cell_type": "code",
   "execution_count": 6,
   "id": "12b79eb3-b114-4518-8363-3df58344038d",
   "metadata": {},
   "outputs": [],
   "source": [
    "# Loading the pre-trained InceptionV3 model\n",
    "base_model = ResNet50V2(weights='imagenet', include_top=False, input_shape=(224, 224, 3))\n",
    "\n",
    "# Adding custom dense layers for multi-class classification\n",
    "x = base_model.output\n",
    "x = GlobalAveragePooling2D()(x)\n",
    "x = Dense(1024, activation='relu')(x)\n",
    "predictions = Dense(4, activation='softmax')(x)  # Output layer with 4 units for 4 classes\n",
    "\n",
    "# Combining the base model with custom dense layers\n",
    "model = Model(inputs=base_model.input, outputs=predictions)\n",
    "\n",
    "# Freezing layers of the base model\n",
    "for layer in base_model.layers:\n",
    "    layer.trainable = False\n",
    "\n",
    "# Compiling the model\n",
    "model.compile(optimizer='adam', loss='categorical_crossentropy', metrics=['accuracy'])"
   ]
  },
  {
   "cell_type": "code",
   "execution_count": 7,
   "id": "a1de3333-e21f-4495-9e15-5114e02217ad",
   "metadata": {},
   "outputs": [],
   "source": [
    "################################################################\n",
    "\n",
    "with tf.device('/cpu:0'):\n",
    "   X_train = tf.convert_to_tensor(X_train, np.float32)\n",
    "   y_train = tf.convert_to_tensor(y_train, np.float32)\n",
    "\n",
    "################################################################"
   ]
  },
  {
   "cell_type": "code",
   "execution_count": 9,
   "id": "dd66a2de-e2b4-4693-a33a-7848e1e8d715",
   "metadata": {},
   "outputs": [
    {
     "name": "stdout",
     "output_type": "stream",
     "text": [
      "Epoch 1/10\n",
      "350/350 [==============================] - 28s 80ms/step - loss: 0.0581 - accuracy: 0.9764 - val_loss: 0.3334 - val_accuracy: 0.9000\n",
      "Epoch 2/10\n",
      "350/350 [==============================] - 28s 80ms/step - loss: 0.0679 - accuracy: 0.9739 - val_loss: 0.3008 - val_accuracy: 0.9214\n",
      "Epoch 3/10\n",
      "350/350 [==============================] - 29s 82ms/step - loss: 0.0325 - accuracy: 0.9886 - val_loss: 0.2559 - val_accuracy: 0.9357\n",
      "Epoch 4/10\n",
      "350/350 [==============================] - 28s 80ms/step - loss: 0.0234 - accuracy: 0.9911 - val_loss: 0.2819 - val_accuracy: 0.9200\n",
      "Epoch 5/10\n",
      "350/350 [==============================] - 28s 80ms/step - loss: 0.0094 - accuracy: 0.9971 - val_loss: 0.3503 - val_accuracy: 0.9200\n",
      "Epoch 6/10\n",
      "350/350 [==============================] - 28s 81ms/step - loss: 0.0379 - accuracy: 0.9825 - val_loss: 0.3773 - val_accuracy: 0.9014\n",
      "Epoch 7/10\n",
      "350/350 [==============================] - 29s 82ms/step - loss: 0.1056 - accuracy: 0.9654 - val_loss: 0.3767 - val_accuracy: 0.9200\n",
      "Epoch 8/10\n",
      "350/350 [==============================] - 28s 80ms/step - loss: 0.0331 - accuracy: 0.9882 - val_loss: 0.3546 - val_accuracy: 0.9171\n",
      "Epoch 9/10\n",
      "350/350 [==============================] - 28s 80ms/step - loss: 0.0061 - accuracy: 0.9989 - val_loss: 0.3178 - val_accuracy: 0.9314\n",
      "Epoch 10/10\n",
      "350/350 [==============================] - 28s 79ms/step - loss: 0.0012 - accuracy: 1.0000 - val_loss: 0.3326 - val_accuracy: 0.9271\n",
      "Training took 280.9 seconds.\n",
      "Training took 4.68 minutes.\n",
      "Training took 0.08 hours.\n"
     ]
    }
   ],
   "source": [
    "# Start time\n",
    "start_time = time.time()\n",
    "\n",
    "# Training the model\n",
    "model.fit(X_train, y_train, epochs = 10, batch_size = 8, validation_data = (X_test, y_test))\n",
    "\n",
    "# End time\n",
    "end_time = time.time()\n",
    "\n",
    "# Duration of training\n",
    "training_duration = end_time - start_time\n",
    "print(f\"Training took {round(training_duration, 2)} seconds.\")\n",
    "training_time_minutes = training_duration/60\n",
    "training_time_hours = training_time_minutes/60\n",
    "print(f\"Training took {round(training_time_minutes, 2)} minutes.\")\n",
    "print(f\"Training took {round(training_time_hours, 2)} hours.\")"
   ]
  },
  {
   "cell_type": "code",
   "execution_count": 1,
   "id": "a1dfbe61-cbf3-4917-bd52-8402ea5fa1d9",
   "metadata": {},
   "outputs": [
    {
     "ename": "NameError",
     "evalue": "name 'model' is not defined",
     "output_type": "error",
     "traceback": [
      "\u001b[1;31m---------------------------------------------------------------------------\u001b[0m",
      "\u001b[1;31mNameError\u001b[0m                                 Traceback (most recent call last)",
      "Cell \u001b[1;32mIn[1], line 2\u001b[0m\n\u001b[0;32m      1\u001b[0m \u001b[38;5;66;03m# Model evaluation\u001b[39;00m\n\u001b[1;32m----> 2\u001b[0m loss, accuracy \u001b[38;5;241m=\u001b[39m \u001b[43mmodel\u001b[49m\u001b[38;5;241m.\u001b[39mevaluate(X_test, y_test)\n\u001b[0;32m      3\u001b[0m \u001b[38;5;28mprint\u001b[39m(\u001b[38;5;124mf\u001b[39m\u001b[38;5;124m'\u001b[39m\u001b[38;5;124mTest Loss: \u001b[39m\u001b[38;5;132;01m{\u001b[39;00mloss\u001b[38;5;132;01m}\u001b[39;00m\u001b[38;5;124m, Test Accuracy: \u001b[39m\u001b[38;5;132;01m{\u001b[39;00maccuracy\u001b[38;5;132;01m}\u001b[39;00m\u001b[38;5;124m'\u001b[39m)\n",
      "\u001b[1;31mNameError\u001b[0m: name 'model' is not defined"
     ]
    }
   ],
   "source": [
    "# Model evaluation\n",
    "loss, accuracy = model.evaluate(X_test, y_test)\n",
    "print(f'Test Loss: {loss}, Test Accuracy: {accuracy}')"
   ]
  },
  {
   "cell_type": "code",
   "execution_count": null,
   "id": "c388c69a-d6b2-423f-a452-a2a45574e279",
   "metadata": {},
   "outputs": [],
   "source": [
    "# Saving the model\n",
    "model.save('saved_models/v3_resnet50v2_clahe/')"
   ]
  },
  {
   "cell_type": "code",
   "execution_count": null,
   "id": "1f9c41bf-6b83-4bc3-96e1-58d6f0d7ed5a",
   "metadata": {},
   "outputs": [],
   "source": [
    "from keras.models import load_model\n",
    "\n",
    "# Load the saved model\n",
    "loaded_model = load_model('saved_models/v3_resnet50v2_clahe/')\n",
    "\n",
    "# Model evaluation\n",
    "loss, accuracy = loaded_model.evaluate(X_test, y_test)\n",
    "print(f'Test Loss: {loss}, Test Accuracy: {accuracy}')"
   ]
  },
  {
   "cell_type": "code",
   "execution_count": null,
   "id": "17e8093a-1976-4eb2-b2be-1b1b699bbbde",
   "metadata": {},
   "outputs": [],
   "source": [
    "Epoch 1/10\n",
    "350/350 [==============================] - 41s 88ms/step - loss: 0.5436 - accuracy: 0.8189 - val_loss: 0.3361 - val_accuracy: 0.8614\n",
    "Epoch 2/10\n",
    "350/350 [==============================] - 28s 80ms/step - loss: 0.2632 - accuracy: 0.9004 - val_loss: 0.2881 - val_accuracy: 0.8857\n",
    "Epoch 3/10\n",
    "350/350 [==============================] - 28s 81ms/step - loss: 0.2046 - accuracy: 0.9107 - val_loss: 0.1952 - val_accuracy: 0.9171\n",
    "Epoch 4/10\n",
    "350/350 [==============================] - 28s 79ms/step - loss: 0.1615 - accuracy: 0.9371 - val_loss: 0.2100 - val_accuracy: 0.9157\n",
    "Epoch 5/10\n",
    "350/350 [==============================] - 29s 81ms/step - loss: 0.1421 - accuracy: 0.9389 - val_loss: 0.3979 - val_accuracy: 0.8757\n",
    "Epoch 6/10\n",
    "350/350 [==============================] - 28s 79ms/step - loss: 0.1391 - accuracy: 0.9439 - val_loss: 0.2243 - val_accuracy: 0.9286\n",
    "Epoch 7/10\n",
    "350/350 [==============================] - 28s 80ms/step - loss: 0.1112 - accuracy: 0.9543 - val_loss: 0.2577 - val_accuracy: 0.9014\n",
    "Epoch 8/10\n",
    "350/350 [==============================] - 28s 80ms/step - loss: 0.1029 - accuracy: 0.9621 - val_loss: 0.2319 - val_accuracy: 0.9057\n",
    "Epoch 9/10\n",
    "350/350 [==============================] - 28s 80ms/step - loss: 0.0670 - accuracy: 0.9746 - val_loss: 0.2834 - val_accuracy: 0.9114\n",
    "Epoch 10/10\n",
    "350/350 [==============================] - 28s 79ms/step - loss: 0.0807 - accuracy: 0.9721 - val_loss: 0.2466 - val_accuracy: 0.9343\n",
    "Training took 292.45 seconds.\n",
    "Training took 4.87 minutes.\n",
    "Training took 0.08 hours."
   ]
  },
  {
   "cell_type": "code",
   "execution_count": null,
   "id": "f9020722-fce7-43a5-84d3-1d5a7b6bdcba",
   "metadata": {},
   "outputs": [],
   "source": [
    "Epoch 1/10\n",
    "350/350 [==============================] - 28s 80ms/step - loss: 0.0581 - accuracy: 0.9764 - val_loss: 0.3334 - val_accuracy: 0.9000\n",
    "Epoch 2/10\n",
    "350/350 [==============================] - 28s 80ms/step - loss: 0.0679 - accuracy: 0.9739 - val_loss: 0.3008 - val_accuracy: 0.9214\n",
    "Epoch 3/10\n",
    "350/350 [==============================] - 29s 82ms/step - loss: 0.0325 - accuracy: 0.9886 - val_loss: 0.2559 - val_accuracy: 0.9357\n",
    "Epoch 4/10\n",
    "350/350 [==============================] - 28s 80ms/step - loss: 0.0234 - accuracy: 0.9911 - val_loss: 0.2819 - val_accuracy: 0.9200\n",
    "Epoch 5/10\n",
    "350/350 [==============================] - 28s 80ms/step - loss: 0.0094 - accuracy: 0.9971 - val_loss: 0.3503 - val_accuracy: 0.9200\n",
    "Epoch 6/10\n",
    "350/350 [==============================] - 28s 81ms/step - loss: 0.0379 - accuracy: 0.9825 - val_loss: 0.3773 - val_accuracy: 0.9014\n",
    "Epoch 7/10\n",
    "350/350 [==============================] - 29s 82ms/step - loss: 0.1056 - accuracy: 0.9654 - val_loss: 0.3767 - val_accuracy: 0.9200\n",
    "Epoch 8/10\n",
    "350/350 [==============================] - 28s 80ms/step - loss: 0.0331 - accuracy: 0.9882 - val_loss: 0.3546 - val_accuracy: 0.9171\n",
    "Epoch 9/10\n",
    "350/350 [==============================] - 28s 80ms/step - loss: 0.0061 - accuracy: 0.9989 - val_loss: 0.3178 - val_accuracy: 0.9314\n",
    "Epoch 10/10\n",
    "350/350 [==============================] - 28s 79ms/step - loss: 0.0012 - accuracy: 1.0000 - val_loss: 0.3326 - val_accuracy: 0.9271\n",
    "Training took 280.9 seconds.\n",
    "Training took 4.68 minutes.\n",
    "Training took 0.08 hours."
   ]
  }
 ],
 "metadata": {
  "kernelspec": {
   "display_name": "Python 3 (ipykernel)",
   "language": "python",
   "name": "python3"
  },
  "language_info": {
   "codemirror_mode": {
    "name": "ipython",
    "version": 3
   },
   "file_extension": ".py",
   "mimetype": "text/x-python",
   "name": "python",
   "nbconvert_exporter": "python",
   "pygments_lexer": "ipython3",
   "version": "3.9.19"
  }
 },
 "nbformat": 4,
 "nbformat_minor": 5
}
